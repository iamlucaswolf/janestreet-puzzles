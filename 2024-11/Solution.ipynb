{
 "cells": [
  {
   "cell_type": "markdown",
   "metadata": {},
   "source": [
    "# Beside the Point\n",
    "\n",
    "> Two random points, one red and one blue, are chosen uniformly and independently from the interior of a square. To ten decimal places, what is the probability that there exists a point on the side of the square closest to the blue point that is equidistant to both the blue point and the red point?\n",
    "\n",
    "<center>\n",
    "<img src=\"media/problem.png\" width=400 />\n",
    "</center>\n",
    "\n",
    "This was a very fun and interesting problem. \n",
    "I decided to solve it directly, but there are several ways to solve it numerically (see [below](#alternative-approaches)).\n",
    "My analytical solution involves surprisingly little probability theory and relies mostly on geometric ideas, which makes this puzzle very intuitive."
   ]
  },
  {
   "cell_type": "markdown",
   "metadata": {},
   "source": [
    "## Setup\n",
    "\n",
    "Let $(X_b, Y_b)$ and $(X_r, Y_r)$ be the coordinates of the blue and red point, respectively.\n",
    "(Note that I chose upper-case letters to emphasize that these are random variables.)\n",
    "\n",
    "Further, we choose the square be the unit square centered at (0.5, 0.5).\n",
    "This particular choice will simplify some calculations, others work equally well.\n",
    "\n",
    "The first key insight into this problem is that it is symmetric with respect to rotations by 90 degrees.\n",
    "In other words, once the two points are chosen, the square can always be re-oriented such that the side closest to the blue point is on the bottom.\n",
    "Note that while this does not affect the probability of the result, it _does_ affect the distribution of the blue point: \n",
    "Instead of choosing it uniformly over the entire square, the blue point is now chosen uniformly over the triangle between the x-axis and the midpoint of the square.\n",
    "\n",
    "<div class=\"alert alert-block alert-success\"> \n",
    "    <b>💡 Key Insight:</b> Instead of drawing the blue point from the entire square, draw it from the lower trangle of the square. This collapses a lot of the cases to consider.\n",
    "</div>\n",
    "\n",
    "Lastly, let $p = (X_p, 0)$ be the point equidistant to the red and the blue point.\n",
    "In this setup, $p$ is _not_ necessarily on the lower side of the square; it may be anywhere on the x-axis!\n",
    "In fact, we will soon see that this point does not always exist (but when it does, it is unique).\n",
    "\n",
    "To solve the problem, we are interested in the probability of the event \"$0 \\leq X_p \\leq 1$\", i.e., the probability that $p$ lies within the bottom side of the square. \n",
    "To simplify notation, let $Z$ be an indicator random variable for this event."
   ]
  },
  {
   "cell_type": "markdown",
   "metadata": {},
   "source": [
    "## Reasoning About the Location of $p$\n",
    "\n",
    "First, consider the trivial scenario where $X_b = Y_b$, i.e., when the two points are on the same horizontal line.\n",
    "In this case, $p$ is located directly below the midpoint $m = (X_b + X_r / 2, Y_b + Y_r / 2)$.\n",
    "\n",
    "Starting from this scenario, how does $p$ move as the blue and red point move?\n",
    "This is best explored graphically:"
   ]
  },
  {
   "cell_type": "code",
   "execution_count": 1,
   "metadata": {},
   "outputs": [
    {
     "data": {
      "application/vnd.jupyter.widget-view+json": {
       "model_id": "dfeaba153f4a400782e17338339aff87",
       "version_major": 2,
       "version_minor": 0
      },
      "text/plain": [
       "interactive(children=(FloatSlider(value=0.0, description='red point', max=6.283185307179586, step=0.01), Outpu…"
      ]
     },
     "execution_count": 1,
     "metadata": {},
     "output_type": "execute_result"
    }
   ],
   "source": [
    "import numpy as np\n",
    "import matplotlib.pyplot as plt\n",
    "\n",
    "from ipywidgets import interactive, FloatSlider\n",
    "\n",
    "def plot_graph(theta):\n",
    "    fig, ax = plt.subplots(figsize=(15, 12))\n",
    "\n",
    "    x_blue, y_blue = 0.5, 0.4\n",
    "    radius = 0.2\n",
    "\n",
    "    # Set up the coordinate system\n",
    "    ax.grid(True, alpha=0.2)\n",
    "    ax.set_aspect('equal')\n",
    "    ax.set_xticks(np.arange(-1.5, 2.5, 0.1))\n",
    "    ax.set_yticks(np.arange(0, 1.5, 0.1))\n",
    "    ax.set_xticklabels([])\n",
    "    ax.set_yticklabels([])\n",
    "    ax.set_xlim(-1.5, 2.5)\n",
    "    ax.set_ylim(0,1.5)\n",
    "\n",
    "    # Draw the square\n",
    "    ax.plot([0,0], [0,1], c='k')\n",
    "    ax.plot([0,1], [1,1], c='k')\n",
    "    ax.plot([1,1], [1,0], c='k')\n",
    "\n",
    "    # Draw the triangular region in which the blue point is sampled\n",
    "    ax.fill([0, 0.5, 1], [0, 0.5, 0], c='lightcyan')\n",
    "    ax.plot([0,0.5],[0,0.5], 'k--', linewidth=0.5)\n",
    "    ax.plot([0.5,1.0],[0.5,0], 'k--', linewidth=0.5)\n",
    "\n",
    "    # Draw the blue point\n",
    "    ax.scatter(x_blue, y_blue, s=15, zorder=2, c='b')\n",
    "\n",
    "    # Draw quadrants of the blue point\n",
    "    ax.plot((x_blue, x_blue), (0, 1), 'k--', alpha=0.4)\n",
    "    ax.plot((0, 1), (y_blue, y_blue), 'k--', alpha=0.4)\n",
    "\n",
    "    # Draw the red point\n",
    "    x_red = x_blue + radius * np.cos(theta)\n",
    "    y_red = y_blue + radius * np.sin(theta)\n",
    "    ax.scatter(x_red, y_red, s=15, zorder=2, c='r')\n",
    "\n",
    "    # Draw the line segment between the two points\n",
    "    ax.plot((x_blue, x_red), (y_blue, y_red), c='k', linewidth=1) \n",
    "\n",
    "    # Draw the perpendicular onto the x-axis (if it exists)\n",
    "    if not np.isclose(x_blue, x_red):\n",
    "        x_mid = (x_blue + x_red) / 2\n",
    "        y_mid = (y_blue + y_red) / 2\n",
    "\n",
    "        # Compute the x-coordinate of p (see below for derivation)\n",
    "        x_p = (x_blue**2 - x_red**2 + y_blue**2 - y_red**2) / (2 * (x_blue - x_red))\n",
    "        ax.plot((x_mid, x_p), (y_mid, 0), c='k', linewidth=1)\n",
    "\n",
    "theta_slider = FloatSlider(value=0, min=0, max=2*np.pi, step=0.01, description='red point')\n",
    "interactive_plot = interactive(plot_graph, theta=theta_slider)\n",
    "interactive_plot"
   ]
  },
  {
   "cell_type": "markdown",
   "metadata": {},
   "source": [
    "From this animation, it becomes intuitively clear that the the quadrant (with respect to the blue point) in which the red point is located, $p$ will lie either to the left or right of $m$.\n",
    "The directions for each quadrant are summarized by the figure below:"
   ]
  },
  {
   "cell_type": "code",
   "execution_count": 2,
   "metadata": {},
   "outputs": [
    {
     "data": {
      "image/png": "[encoded data removed]",
      "text/plain": [
       "<Figure size 600x600 with 1 Axes>"
      ]
     },
     "metadata": {},
     "output_type": "display_data"
    }
   ],
   "source": [
    "x_blue, y_blue = 0.5, 0.5\n",
    "\n",
    "fig, ax = plt.subplots(figsize=(6, 6))\n",
    "\n",
    "# Set up the coordinate system\n",
    "ax.grid(True, alpha=0.5)\n",
    "ax.set_aspect('equal')\n",
    "ax.set_xticks(np.arange(0, 1, 0.1))\n",
    "ax.set_yticks(np.arange(0, 1, 0.1))\n",
    "ax.set_xticklabels([])\n",
    "ax.set_yticklabels([])\n",
    "ax.set_xlim(0,1)\n",
    "ax.set_ylim(0,1)\n",
    "\n",
    "# Draw the blue dot\n",
    "ax.fill([x_blue, 1, 1, x_blue], [y_blue, y_blue, 1, 1], \"papayawhip\")\n",
    "ax.fill([x_blue, x_blue, 0, 0], [y_blue, 1, 1, y_blue], \"lightcyan\")\n",
    "ax.fill([0, x_blue, x_blue, 0], [0, 0, y_blue, y_blue], \"papayawhip\")\n",
    "ax.fill([x_blue, 1, 1, x_blue], [0, 0, y_blue, y_blue], \"lightcyan\")\n",
    "\n",
    "ax.plot([0, 1], [y_blue, y_blue], linewidth=2, c='k')\n",
    "ax.plot([x_blue, x_blue], [0, 1], linewidth=2, c='k')\n",
    "ax.scatter(x_blue, y_blue, s=150, zorder=2)\n",
    "\n",
    "# Draw the arrows\n",
    "# (x,y,dx)\n",
    "arrows = [\n",
    "    (0.35, 0.75, -0.2),\n",
    "    (0.65, 0.75, 0.2),\n",
    "    (0.15, 0.25, 0.2),\n",
    "    (0.85, 0.25, -0.2)\n",
    "]\n",
    "\n",
    "for (x, y, dx) in arrows:\n",
    "    ax.arrow(x, y, dx, 0, width=0.005, head_width=0.03, head_length=0.03, zorder=3, color='k')\n",
    "\n",
    "plt.show()"
   ]
  },
  {
   "cell_type": "markdown",
   "metadata": {},
   "source": [
    "\n",
    "\n",
    "<div class=\"alert alert-block alert-success\"> \n",
    "    <b>💡 Key Insight:</b> Depending on the quadrant (with respect to the blue point) in which the red point is located, p will lie either to the left or right of m.\n",
    "</div>\n",
    "\n",
    "Let's prove this intuition exemplarily for the upper-left quadrant:\n",
    "Since $p$ lies on the x-axis, it forms right triangles with the x-axis and either the red and the blue point.\n",
    "Further, since $p$ is equidistant to these points, the hypothenuses must be of equal length:\n",
    "\n",
    "$$\n",
    "\\sqrt{(X_b - X_p)^2 + Y_b^2} = \\sqrt{(X_r - X_p)^2 + Y_r^2}\n",
    "$$\n",
    "\n",
    "Solving for $X_p$:\n",
    "\n",
    "$$\n",
    "\\begin{align*}\n",
    "X_p &= \\frac{X_b^2 - X_r ^2 + Y_b^2 - Y_r^2}{2(X_b^2 - X_r^2)} \\\\\n",
    "&= \\frac{(X_b - X_r)(X_b + X_r) + Y_b^2 - Y_r^2}{2(X_b^2 - X_r^2)} \\\\\n",
    "&= \\frac{(X_b - X_r)\\left((X_b + X_r) + \\frac{Y_b^2 - Y_r^2}{X_b - X_r}\\right)}{2 (X_b - X_r)} \\\\\n",
    "&= \\frac{X_b + X_r}{2} + \\frac{(Y^2_b - Y_r^2)}{2(X_b - X_r)} \\\\\n",
    "&= \\frac{X_b + X_r}{2} + \\frac{\\overbrace{(Y_b - Y_r)}^{<0\\textnormal{, since } Y_r > Y_b}(\\overbrace{(Y_b + Y_r)}^{>0\\textnormal{, since } Y_r, Y_b \\geq 0})}{2\\underbrace{(X_b - X_r)}_{>0\\textnormal{, since } X_r < X_b}} \\\\\n",
    "&< \\frac{X_b + X_r}{2} = X_m\n",
    "\\end{align*}\n",
    "$$\n",
    "\n",
    "The proofs for the other three quadrants work analogously.\n",
    "\n",
    "Using this insight, we can determine whether $p$ lies within the square or outside by examining the corner in the direction where $p$ is expected to lie.\n",
    "Continuing with the example of the upper-left quadrant relative to the blue point:\n",
    "\n",
    "Since $p$ must lie to the left of $m$, we focus on the left corner.\n",
    "Let $d_r$ and $d_b$ be the distances of the red and blue points to that corner.\n",
    "(If $p$ lies exactly at the corner, these distances would be equal (since $p$ is equidistant)).\n",
    "\n",
    "If $d_r < d_b$, then:\n",
    "\n",
    "$$\n",
    "\\begin{align*}\n",
    "&d_r < d_b \\\\\n",
    "\\iff & \\sqrt{X_r^2 + Y_r^2} < \\sqrt{X_b^2 + Y_b^2} \\\\\n",
    "\\iff & X_b^2 - X_r^2 + Y_b^2 - Y_r^2 > 0 \n",
    "\\end{align*}\n",
    "$$\n",
    "\n",
    "Thus, \n",
    "\n",
    "$$\n",
    "X_p = \\frac{\\overbrace{X_b^2 - X_r^2 + Y_b^2 - Y_r^2}^{>0}}{2\\underbrace{(X_b - X_r)}_{>0\\textnormal{, since } X_r < X_b}} > 0\n",
    "$$\n",
    "\n",
    "in summary, $p$ lies between $(0, (x_b + x_r) / 2]$, i.e. inside the square.\n",
    "By the same argument, if $d_r > d_b$, then $X_p < 0$ and $p$ lies outside the square.\n",
    "The proof for the other quadrants, again, works analogously.\n",
    "\n",
    "<div class=\"alert alert-block alert-success\"> \n",
    "    <b>💡 Key Insight:</b> We can deduce whether p lies inside the sqaure or outside by comparing the distances of the red and blue points to the corner in the direction in which p must lie.\n",
    "</div>\n",
    "\n",
    "Repeating this process for all four quadrants leads to the following picture for a fixed blue point $(x_b, y_b)$.\n",
    "Shaded regions indicate the positions of the red point for which $p$ lies within the bounds of the square:"
   ]
  },
  {
   "cell_type": "code",
   "execution_count": 3,
   "metadata": {},
   "outputs": [
    {
     "data": {
      "image/png": "[encoded data removed]",
      "text/plain": [
       "<Figure size 600x600 with 1 Axes>"
      ]
     },
     "metadata": {},
     "output_type": "display_data"
    }
   ],
   "source": [
    "from matplotlib.patches import PathPatch\n",
    "from matplotlib.path import Path\n",
    "\n",
    "x_blue, y_blue = 0.4, 0.3\n",
    "\n",
    "fig, ax = plt.subplots(figsize=(6, 6))\n",
    "\n",
    "# Set up the coordinate system\n",
    "ax.grid(True, alpha=0.5)\n",
    "ax.set_aspect('equal')\n",
    "ax.set_xticks(np.arange(0, 1, 0.1))\n",
    "ax.set_yticks(np.arange(0, 1, 0.1))\n",
    "ax.set_xticklabels([])\n",
    "ax.set_yticklabels([])\n",
    "ax.set_xlim(0,1)\n",
    "ax.set_ylim(0,1)\n",
    "\n",
    "# Draw the triangular region in which the blue point is sampled\n",
    "ax.plot([0,0.5],[0,0.5], 'k--', linewidth=0.5)\n",
    "ax.plot([0.5,1.0],[0.5,0], 'k--', linewidth=0.5)\n",
    "\n",
    "# Compute the distances of the blue point from the corners\n",
    "d1 = np.hypot(x_blue, y_blue)\n",
    "d2 = np.hypot(1 - x_blue, y_blue)\n",
    "\n",
    "# Compute the interior angles of the line segments from the corners to the blue point and the x-axis\n",
    "theta1 = np.tanh(y_blue/x_blue)\n",
    "theta2 = np.tanh(y_blue/(1-x_blue))\n",
    "\n",
    "# Compute the arcs bounding the shaded region\n",
    "def arc(center, radius, start_angle, end_angle):\n",
    "    theta = np.linspace(start_angle, end_angle, 100)\n",
    "    x = center[0] + radius * np.cos(theta)\n",
    "    y = center[1] + radius * np.sin(theta)\n",
    "    return np.column_stack([x, y])\n",
    "\n",
    "arc1 = arc((0, 0), d1, np.pi/2, theta1)\n",
    "arc2 = arc((0, 0), d1, theta1, 0)\n",
    "arc3 = arc((1, 0), d2, np.pi/2, np.pi - theta2)\n",
    "arc4 = arc((1, 0), d2, np.pi - theta2, np.pi)\n",
    "\n",
    "# Draw the shaded region\n",
    "ax.add_patch(PathPatch(Path(np.vstack([arc1, arc4, [0,0], arc1[0]])), facecolor='papayawhip', alpha=0.5))\n",
    "ax.add_patch(PathPatch(Path(np.vstack([arc3, arc2, [1,0], arc3[0]])), facecolor='papayawhip', alpha=0.5))\n",
    "\n",
    "# Draw the blue point\n",
    "ax.scatter(x_blue, y_blue, s=100, zorder=2)\n",
    "\n",
    "plt.show()"
   ]
  },
  {
   "cell_type": "markdown",
   "metadata": {},
   "source": [
    "\n",
    "\n",
    "Since the red point is sampled uniformly and independently, the probability  that the equidistant point exists and falls within the side of the square (for a given blue point) corresponds to the ratio of the shaded area $A(x,y)$ to the total area of the square:\n",
    "\n",
    "$$\n",
    "P[Z \\mid X_b = x_b, Y_b = y_b] = \\frac{A(x_b,y_b)}{\\underbrace{\\text{Total Area of Square}}_{= 1}} = A(x_b,y_b)\n",
    "$$\n",
    "\n",
    "Finally, to compute the overall probability $P[Z]$, we use the law of total probability, integrating over all possible positions of the blue point:\n",
    "\n",
    "$\\mathbb{P}[Z] = \\iint_{\\displaystyle \\bigtriangleup } \\mathbb{P}[Z \\mid X_b = x_b, Y_b = y_b] \\cdot f_{X_b, Y_b}(x_b, y_b) dx_b  dy_b$,\n",
    "\n",
    "where $f_{X_b,Y_b}$ is the joint probability density function for the coordinates of the blue point, and $\\displaystyle \\bigtriangleup$ is the domain of the blue point, i.e., the triangle between the bottom side and the midpoint of the square."
   ]
  },
  {
   "cell_type": "markdown",
   "metadata": {},
   "source": [
    "## Decomposing $\\iint_{\\displaystyle \\bigtriangleup } A(x_b, y_b) dx_b  dy_b$\n",
    "\n",
    "Since the blue point is chosen uniformly over a triangle of area $\\frac{1}{4}$, the joint density $f_{X_b, Y_b}(x_b,y_b) = 4$ can be moved out of the integral:\n",
    "\n",
    "$$\n",
    "\\mathbb{P}[Z] = 4 \\iint_{\\displaystyle \\bigtriangleup } \\mathbb{P}[Z \\mid X_b = x_b, Y_b = y_b]  dx_b dy_b\n",
    "$$\n",
    "\n",
    "To compute $\\mathbb{P}[Z \\mid X_b = x_b, Y_b = y_b]$, i.e., the shaded area from the illustration above, we have to again resort to some geometric ideas:\n",
    "\n",
    "First, notice that the area is the symmetric difference of two quarter circles located in the bottom corners of the square that both have the blue point as a tangent point.\n",
    "We can decompose the area of that shape into the sum of the area of the quarter circles minus twice the area of the intersection:\n",
    "\n",
    "$$\n",
    "A(x_b, y_b) = A_\\text{left circle}(x_b, y_b) + A_\\text{right circle}(x_b, y_b) - 2 A_\\text{intesection}(x_b, y_b)\n",
    "$$\n",
    "\n",
    "The intersection area can be further decomposed into the circular sector between the corner, the x-axis and the blue point minus the triangle that cuts off the circular segment from the sector:\n",
    "\n",
    "$$\n",
    "A(x_b, y_b) = A_\\text{left circle}(x_b, y_b) + A_\\text{right circle}(x_b, y_b) - 2 \\left(A_\\text{left sector}(x_b, y_b) - A_\\text{left triangle}(x_b, y_b) + A_\\text{right sector}(x_b, y_b) - A_\\text{left triangle}(x_b, y_b)\\right)\n",
    "$$\n",
    "\n",
    "<div class=\"alert alert-block alert-success\"> \n",
    "    <b>💡 Key Insight:</b> The area under the integral can be decomposed into primitive shapes.\n",
    "</div>\n",
    "\n",
    "Now, notice that while $A_\\text{left circle}(x_b, y_b)$ and $A_\\text{right circle}(x_b, y_b)$ are generally not equal, _their integral over_ $\\bigtriangleup$ _is_, due to the symmetry around $x=0.5$.\n",
    "This applies not only to the quarter cirles, but to all shapes we integrate over.\n",
    "The proof for this is tedious, but it should be clear intuitively.\n",
    "\n",
    "With this insight (and the fact that integration is a linear operator), the integral over $A(x_b, y_b)$ can be simplified to:\n",
    "\n",
    "$$\n",
    "\\begin{align*}\n",
    "\\iint_{ \\bigtriangleup } A(x_b, y_b) dx_b , dy_b &= \\iint_{ \\bigtriangleup } A_\\text{left circle}(x_b, y_b) + A_\\text{right circle}(x_b, y_b) - 2 \\left(A_\\text{left sector}(x_b, y_b) - A_\\text{left triangle}(x_b, y_b) + A_\\text{right sector}(x_b, y_b) - A_\\text{left triangle}(x_b, y_b)\\right) dx_b  dy_b \\\\\n",
    "&= \\iint_{ \\bigtriangleup } 2 A_\\text{left circle}(x_b, y_b) - 4 \\left(A_\\text{left sector}(x_b, y_b) - A_\\text{left triangle}(x_b, y_b)\\right) dx_b  dy_b\n",
    "\\end{align*}\n",
    "$$\n",
    "\n",
    "<div class=\"alert alert-block alert-success\"> \n",
    "    <b>💡 Key Insight:</b> For each shape, the integral over the left and right version is identical, due to symmetry of the domain and linearity.\n",
    "</div>\n",
    "\n",
    "## Integrating over Shapes\n",
    "\n",
    "Thanks to linearity, each shape can be integrated individually, which drastically simplifies the calculation. \n",
    "\n",
    "Integrating $A_\\text{left triangle}(x_b, y_b)$ is straight-forward. \n",
    "Note that to integrate over the triangular domain, we have to split the integral in two parts:\n",
    "\n",
    "$$\n",
    "\\begin{align*}\n",
    "\\iint_{ \\bigtriangleup } A_\\text{left triangle}(x_b, y_b) dx_b  dy_b &= \\underbrace{\\int_{0}^{0.5} \\int_{0}^{x} A_\\text{left triangle}(x_b, y_b) dy_b dx_b}_{\\text{left half}} + \\underbrace{\\int_{0.5}^{1} \\int_{0}^{1-x} A_\\text{left triangle}(x_b, y_b) dy_b dx_b}_{\\text{right half}} \\\\\n",
    "&= \\underbrace{\\int_{0}^{0.5} \\int_{0}^{x} \\frac{1}{2} x_b y_b dy_b dx_b}_{\\text{left half}} + \\underbrace{\\int_{0.5}^{1} \\int_{0}^{1-x} \\frac{1}{2} x_b y_b dy_b dx_b}_{\\text{right half}}\n",
    "\\end{align*}\n",
    "$$"
   ]
  },
  {
   "cell_type": "code",
   "execution_count": 4,
   "metadata": {},
   "outputs": [
    {
     "data": {
      "text/latex": [
       "$\\displaystyle \\frac{1}{96}$"
      ],
      "text/plain": [
       "1/96"
      ]
     },
     "execution_count": 4,
     "metadata": {},
     "output_type": "execute_result"
    }
   ],
   "source": [
    "from sympy import Rational, symbols, integrate\n",
    "\n",
    "x, y = symbols('x, y')\n",
    "\n",
    "area_triangle = Rational(1,2) * x * y\n",
    "\n",
    "integrate(integrate(area_triangle, (y, 0, x)), (x, 0, Rational(1,2))) + integrate(integrate(area_triangle, (y, 0, 1-x)), (x, Rational(1,2), 1))"
   ]
  },
  {
   "cell_type": "markdown",
   "metadata": {},
   "source": [
    "Integrating $A_\\text{left circle}(x_b, y_b)$ and $A_\\text{left sector}(x_b, y_b)$ is considerably harder, because the circular elements introduce trigonometric functions into the integration.\n",
    "However, there is again a trick: reparameterization to polar coordinates. \n",
    "\n",
    "$$\n",
    "\\begin{align*}\n",
    "\\iint_{ \\bigtriangleup } A_\\text{left circle}(x_b, y_b) dx_b  dy_b = \\int_0^{\\frac{\\pi}{4}} \\int_0^{\\frac{1}{\\cos \\theta + \\sin \\theta}} \\underbrace{r}_{\\text{Jacobi factor}} \\cdot \\frac{1}{4} \\pi r^2 dr d\\theta \n",
    "\\end{align*}\n",
    "$$\n",
    "\n",
    "<div class=\"alert alert-block alert-success\"> \n",
    "    <b>💡 Key Insight:</b> Reparameterizing the circular shapes in terms of polar coordinates simplifies the integration substantially.\n",
    "</div>\n",
    "\n",
    "<div class=\"alert alert-block alert-info\"> \n",
    "<b>Note:</b> Initially, I forgot to multiply the transformed integrated function withe the determinant of the Jacobian of the transform. That cost me about three days. Revise your elementary Calculus!\n",
    "</div>"
   ]
  },
  {
   "cell_type": "code",
   "execution_count": 5,
   "metadata": {},
   "outputs": [
    {
     "data": {
      "text/latex": [
       "$\\displaystyle \\frac{\\pi \\left(\\frac{12 \\left(-1 + \\sqrt{2}\\right)^{4}}{- 18 \\sqrt{2} - 27 \\left(-1 + \\sqrt{2}\\right)^{2} - 18 \\left(-1 + \\sqrt{2}\\right)^{5} + 3 \\left(-1 + \\sqrt{2}\\right)^{6} + 27 \\left(-1 + \\sqrt{2}\\right)^{4} + 12 \\left(-1 + \\sqrt{2}\\right)^{3} + 15} - \\frac{6 \\left(-1 + \\sqrt{2}\\right)^{5}}{- 18 \\sqrt{2} - 27 \\left(-1 + \\sqrt{2}\\right)^{2} - 18 \\left(-1 + \\sqrt{2}\\right)^{5} + 3 \\left(-1 + \\sqrt{2}\\right)^{6} + 27 \\left(-1 + \\sqrt{2}\\right)^{4} + 12 \\left(-1 + \\sqrt{2}\\right)^{3} + 15} - \\frac{4 \\left(-1 + \\sqrt{2}\\right)^{3}}{- 18 \\sqrt{2} - 27 \\left(-1 + \\sqrt{2}\\right)^{2} - 18 \\left(-1 + \\sqrt{2}\\right)^{5} + 3 \\left(-1 + \\sqrt{2}\\right)^{6} + 27 \\left(-1 + \\sqrt{2}\\right)^{4} + 12 \\left(-1 + \\sqrt{2}\\right)^{3} + 15} - \\frac{12 \\left(-1 + \\sqrt{2}\\right)^{2}}{- 18 \\sqrt{2} - 27 \\left(-1 + \\sqrt{2}\\right)^{2} - 18 \\left(-1 + \\sqrt{2}\\right)^{5} + 3 \\left(-1 + \\sqrt{2}\\right)^{6} + 27 \\left(-1 + \\sqrt{2}\\right)^{4} + 12 \\left(-1 + \\sqrt{2}\\right)^{3} + 15} - \\frac{6 \\left(-1 + \\sqrt{2}\\right)}{- 18 \\sqrt{2} - 27 \\left(-1 + \\sqrt{2}\\right)^{2} - 18 \\left(-1 + \\sqrt{2}\\right)^{5} + 3 \\left(-1 + \\sqrt{2}\\right)^{6} + 27 \\left(-1 + \\sqrt{2}\\right)^{4} + 12 \\left(-1 + \\sqrt{2}\\right)^{3} + 15}\\right)}{16}$"
      ],
      "text/plain": [
       "pi*(12*(-1 + sqrt(2))**4/(-18*sqrt(2) - 27*(-1 + sqrt(2))**2 - 18*(-1 + sqrt(2))**5 + 3*(-1 + sqrt(2))**6 + 27*(-1 + sqrt(2))**4 + 12*(-1 + sqrt(2))**3 + 15) - 6*(-1 + sqrt(2))**5/(-18*sqrt(2) - 27*(-1 + sqrt(2))**2 - 18*(-1 + sqrt(2))**5 + 3*(-1 + sqrt(2))**6 + 27*(-1 + sqrt(2))**4 + 12*(-1 + sqrt(2))**3 + 15) - 4*(-1 + sqrt(2))**3/(-18*sqrt(2) - 27*(-1 + sqrt(2))**2 - 18*(-1 + sqrt(2))**5 + 3*(-1 + sqrt(2))**6 + 27*(-1 + sqrt(2))**4 + 12*(-1 + sqrt(2))**3 + 15) - 12*(-1 + sqrt(2))**2/(-18*sqrt(2) - 27*(-1 + sqrt(2))**2 - 18*(-1 + sqrt(2))**5 + 3*(-1 + sqrt(2))**6 + 27*(-1 + sqrt(2))**4 + 12*(-1 + sqrt(2))**3 + 15) - 6*(-1 + sqrt(2))/(-18*sqrt(2) - 27*(-1 + sqrt(2))**2 - 18*(-1 + sqrt(2))**5 + 3*(-1 + sqrt(2))**6 + 27*(-1 + sqrt(2))**4 + 12*(-1 + sqrt(2))**3 + 15))/16"
      ]
     },
     "execution_count": 5,
     "metadata": {},
     "output_type": "execute_result"
    }
   ],
   "source": [
    "from sympy import cos, sin, pi\n",
    "\n",
    "r, theta = symbols('r, theta')\n",
    "\n",
    "area_circle = Rational(1, 4) * pi * r **2 \n",
    "integrate(integrate(r * area_circle, (r, 0, 1/(cos(theta) + sin(theta)))), (theta, 0, pi/4))"
   ]
  },
  {
   "cell_type": "markdown",
   "metadata": {},
   "source": [
    "Here, SymPy seems to have trouble simplifying the reuslt further.\n",
    "Wolfram Alpha produces $\\frac{\\pi}{48}$."
   ]
  },
  {
   "cell_type": "code",
   "execution_count": 6,
   "metadata": {},
   "outputs": [
    {
     "name": "stdout",
     "output_type": "stream",
     "text": [
      "Sympy result: 0.0654498469497874\n",
      "Wolfram Alpha result: 0.0654498469497874\n"
     ]
    }
   ],
   "source": [
    "# Consistency check:\n",
    "print(f\"Sympy result: {integrate(integrate(r * area_circle, (r, 0, 1/(cos(theta) + sin(theta)))), (theta, 0, pi/4)).evalf()}\")\n",
    "print(f\"Wolfram Alpha result: {(pi/48).evalf()}\")"
   ]
  },
  {
   "cell_type": "markdown",
   "metadata": {},
   "source": [
    "\n",
    "Lastly, $A_\\text{left sector}(x_b, y_b)$:\n",
    "\n",
    "$$\n",
    "\\begin{align*}\n",
    "\\iint_{ \\bigtriangleup } A_\\text{left sector}(x_b, y_b) dx_b  dy_b = \\int_0^{\\frac{\\pi}{4}} \\int_0^{\\frac{1}{\\cos \\theta + \\sin \\theta}} \\underbrace{r}_{\\text{Jacobi factor}} \\cdot \\frac{\\theta}{2\\pi} \\pi r^2 dr d\\theta \n",
    "\\end{align*}\n",
    "$$"
   ]
  },
  {
   "cell_type": "code",
   "execution_count": 7,
   "metadata": {},
   "outputs": [
    {
     "data": {
      "text/latex": [
       "$\\displaystyle \\frac{\\pi}{16 \\left(- 36 \\sqrt{2} - 54 \\left(-1 + \\sqrt{2}\\right)^{2} - 36 \\left(-1 + \\sqrt{2}\\right)^{5} + 6 \\left(-1 + \\sqrt{2}\\right)^{6} + 54 \\left(-1 + \\sqrt{2}\\right)^{4} + 24 \\left(-1 + \\sqrt{2}\\right)^{3} + 30\\right)} + \\frac{3 \\left(-1 + \\sqrt{2}\\right) \\log{\\left(\\left(-1 + \\sqrt{2}\\right)^{2} + 1 \\right)}}{4 \\left(- 36 \\sqrt{2} - 54 \\left(-1 + \\sqrt{2}\\right)^{2} - 36 \\left(-1 + \\sqrt{2}\\right)^{5} + 6 \\left(-1 + \\sqrt{2}\\right)^{6} + 54 \\left(-1 + \\sqrt{2}\\right)^{4} + 24 \\left(-1 + \\sqrt{2}\\right)^{3} + 30\\right)} + \\frac{\\left(-1 + \\sqrt{2}\\right)^{3}}{2 \\left(- 36 \\sqrt{2} - 54 \\left(-1 + \\sqrt{2}\\right)^{2} - 36 \\left(-1 + \\sqrt{2}\\right)^{5} + 6 \\left(-1 + \\sqrt{2}\\right)^{6} + 54 \\left(-1 + \\sqrt{2}\\right)^{4} + 24 \\left(-1 + \\sqrt{2}\\right)^{3} + 30\\right)} + \\frac{9 \\left(-1 + \\sqrt{2}\\right)^{2} \\log{\\left(\\left(-1 + \\sqrt{2}\\right)^{2} + 1 \\right)}}{8 \\left(- 36 \\sqrt{2} - 54 \\left(-1 + \\sqrt{2}\\right)^{2} - 36 \\left(-1 + \\sqrt{2}\\right)^{5} + 6 \\left(-1 + \\sqrt{2}\\right)^{6} + 54 \\left(-1 + \\sqrt{2}\\right)^{4} + 24 \\left(-1 + \\sqrt{2}\\right)^{3} + 30\\right)} + \\frac{\\log{\\left(\\left(-1 + \\sqrt{2}\\right)^{2} + 1 \\right)}}{8 \\left(- 36 \\sqrt{2} - 54 \\left(-1 + \\sqrt{2}\\right)^{2} - 36 \\left(-1 + \\sqrt{2}\\right)^{5} + 6 \\left(-1 + \\sqrt{2}\\right)^{6} + 54 \\left(-1 + \\sqrt{2}\\right)^{4} + 24 \\left(-1 + \\sqrt{2}\\right)^{3} + 30\\right)} + \\frac{3 \\pi \\left(-1 + \\sqrt{2}\\right)^{4}}{16 \\left(- 36 \\sqrt{2} - 54 \\left(-1 + \\sqrt{2}\\right)^{2} - 36 \\left(-1 + \\sqrt{2}\\right)^{5} + 6 \\left(-1 + \\sqrt{2}\\right)^{6} + 54 \\left(-1 + \\sqrt{2}\\right)^{4} + 24 \\left(-1 + \\sqrt{2}\\right)^{3} + 30\\right)} + \\frac{\\left(-1 + \\sqrt{2}\\right)^{4}}{2 \\left(- 36 \\sqrt{2} - 54 \\left(-1 + \\sqrt{2}\\right)^{2} - 36 \\left(-1 + \\sqrt{2}\\right)^{5} + 6 \\left(-1 + \\sqrt{2}\\right)^{6} + 54 \\left(-1 + \\sqrt{2}\\right)^{4} + 24 \\left(-1 + \\sqrt{2}\\right)^{3} + 30\\right)} + \\frac{3 \\left(-1 + \\sqrt{2}\\right)^{5} \\log{\\left(\\left(-1 + \\sqrt{2}\\right)^{2} + 1 \\right)}}{4 \\left(- 36 \\sqrt{2} - 54 \\left(-1 + \\sqrt{2}\\right)^{2} - 36 \\left(-1 + \\sqrt{2}\\right)^{5} + 6 \\left(-1 + \\sqrt{2}\\right)^{6} + 54 \\left(-1 + \\sqrt{2}\\right)^{4} + 24 \\left(-1 + \\sqrt{2}\\right)^{3} + 30\\right)} - \\frac{\\left(-1 + \\sqrt{2}\\right)^{6} \\log{\\left(\\left(-1 + \\sqrt{2}\\right)^{2} + 1 \\right)}}{8 \\left(- 36 \\sqrt{2} - 54 \\left(-1 + \\sqrt{2}\\right)^{2} - 36 \\left(-1 + \\sqrt{2}\\right)^{5} + 6 \\left(-1 + \\sqrt{2}\\right)^{6} + 54 \\left(-1 + \\sqrt{2}\\right)^{4} + 24 \\left(-1 + \\sqrt{2}\\right)^{3} + 30\\right)} - \\frac{\\pi \\left(-1 + \\sqrt{2}\\right)^{6}}{16 \\left(- 36 \\sqrt{2} - 54 \\left(-1 + \\sqrt{2}\\right)^{2} - 36 \\left(-1 + \\sqrt{2}\\right)^{5} + 6 \\left(-1 + \\sqrt{2}\\right)^{6} + 54 \\left(-1 + \\sqrt{2}\\right)^{4} + 24 \\left(-1 + \\sqrt{2}\\right)^{3} + 30\\right)} - \\frac{\\left(-1 + \\sqrt{2}\\right)^{5}}{4 \\left(- 36 \\sqrt{2} - 54 \\left(-1 + \\sqrt{2}\\right)^{2} - 36 \\left(-1 + \\sqrt{2}\\right)^{5} + 6 \\left(-1 + \\sqrt{2}\\right)^{6} + 54 \\left(-1 + \\sqrt{2}\\right)^{4} + 24 \\left(-1 + \\sqrt{2}\\right)^{3} + 30\\right)} - \\frac{9 \\left(-1 + \\sqrt{2}\\right)^{4} \\log{\\left(\\left(-1 + \\sqrt{2}\\right)^{2} + 1 \\right)}}{8 \\left(- 36 \\sqrt{2} - 54 \\left(-1 + \\sqrt{2}\\right)^{2} - 36 \\left(-1 + \\sqrt{2}\\right)^{5} + 6 \\left(-1 + \\sqrt{2}\\right)^{6} + 54 \\left(-1 + \\sqrt{2}\\right)^{4} + 24 \\left(-1 + \\sqrt{2}\\right)^{3} + 30\\right)} - \\frac{\\left(-1 + \\sqrt{2}\\right)^{3} \\log{\\left(\\left(-1 + \\sqrt{2}\\right)^{2} + 1 \\right)}}{2 \\left(- 36 \\sqrt{2} - 54 \\left(-1 + \\sqrt{2}\\right)^{2} - 36 \\left(-1 + \\sqrt{2}\\right)^{5} + 6 \\left(-1 + \\sqrt{2}\\right)^{6} + 54 \\left(-1 + \\sqrt{2}\\right)^{4} + 24 \\left(-1 + \\sqrt{2}\\right)^{3} + 30\\right)} - \\frac{\\left(-1 + \\sqrt{2}\\right)^{2}}{2 \\left(- 36 \\sqrt{2} - 54 \\left(-1 + \\sqrt{2}\\right)^{2} - 36 \\left(-1 + \\sqrt{2}\\right)^{5} + 6 \\left(-1 + \\sqrt{2}\\right)^{6} + 54 \\left(-1 + \\sqrt{2}\\right)^{4} + 24 \\left(-1 + \\sqrt{2}\\right)^{3} + 30\\right)} - \\frac{3 \\pi \\left(-1 + \\sqrt{2}\\right)^{2}}{16 \\left(- 36 \\sqrt{2} - 54 \\left(-1 + \\sqrt{2}\\right)^{2} - 36 \\left(-1 + \\sqrt{2}\\right)^{5} + 6 \\left(-1 + \\sqrt{2}\\right)^{6} + 54 \\left(-1 + \\sqrt{2}\\right)^{4} + 24 \\left(-1 + \\sqrt{2}\\right)^{3} + 30\\right)} - \\frac{-1 + \\sqrt{2}}{4 \\left(- 36 \\sqrt{2} - 54 \\left(-1 + \\sqrt{2}\\right)^{2} - 36 \\left(-1 + \\sqrt{2}\\right)^{5} + 6 \\left(-1 + \\sqrt{2}\\right)^{6} + 54 \\left(-1 + \\sqrt{2}\\right)^{4} + 24 \\left(-1 + \\sqrt{2}\\right)^{3} + 30\\right)} - \\frac{\\pi \\left(-1 + \\sqrt{2}\\right)^{3}}{2 \\left(- 36 \\sqrt{2} - 54 \\left(-1 + \\sqrt{2}\\right)^{2} - 36 \\left(-1 + \\sqrt{2}\\right)^{5} + 6 \\left(-1 + \\sqrt{2}\\right)^{6} + 54 \\left(-1 + \\sqrt{2}\\right)^{4} + 24 \\left(-1 + \\sqrt{2}\\right)^{3} + 30\\right)} - \\frac{i \\pi}{48} + \\frac{\\left(-1 + \\sqrt{2}\\right)^{3} \\left(\\log{\\left(-1 - \\left(-1 + \\sqrt{2}\\right)^{2} + 2 \\sqrt{2} \\right)} + i \\pi\\right)}{2 \\left(- 36 \\sqrt{2} - 54 \\left(-1 + \\sqrt{2}\\right)^{2} - 36 \\left(-1 + \\sqrt{2}\\right)^{5} + 6 \\left(-1 + \\sqrt{2}\\right)^{6} + 54 \\left(-1 + \\sqrt{2}\\right)^{4} + 24 \\left(-1 + \\sqrt{2}\\right)^{3} + 30\\right)} + \\frac{9 \\left(-1 + \\sqrt{2}\\right)^{4} \\left(\\log{\\left(-1 - \\left(-1 + \\sqrt{2}\\right)^{2} + 2 \\sqrt{2} \\right)} + i \\pi\\right)}{8 \\left(- 36 \\sqrt{2} - 54 \\left(-1 + \\sqrt{2}\\right)^{2} - 36 \\left(-1 + \\sqrt{2}\\right)^{5} + 6 \\left(-1 + \\sqrt{2}\\right)^{6} + 54 \\left(-1 + \\sqrt{2}\\right)^{4} + 24 \\left(-1 + \\sqrt{2}\\right)^{3} + 30\\right)} + \\frac{\\left(-1 + \\sqrt{2}\\right)^{6} \\left(\\log{\\left(-1 - \\left(-1 + \\sqrt{2}\\right)^{2} + 2 \\sqrt{2} \\right)} + i \\pi\\right)}{8 \\left(- 36 \\sqrt{2} - 54 \\left(-1 + \\sqrt{2}\\right)^{2} - 36 \\left(-1 + \\sqrt{2}\\right)^{5} + 6 \\left(-1 + \\sqrt{2}\\right)^{6} + 54 \\left(-1 + \\sqrt{2}\\right)^{4} + 24 \\left(-1 + \\sqrt{2}\\right)^{3} + 30\\right)} - \\frac{3 \\left(-1 + \\sqrt{2}\\right)^{5} \\left(\\log{\\left(-1 - \\left(-1 + \\sqrt{2}\\right)^{2} + 2 \\sqrt{2} \\right)} + i \\pi\\right)}{4 \\left(- 36 \\sqrt{2} - 54 \\left(-1 + \\sqrt{2}\\right)^{2} - 36 \\left(-1 + \\sqrt{2}\\right)^{5} + 6 \\left(-1 + \\sqrt{2}\\right)^{6} + 54 \\left(-1 + \\sqrt{2}\\right)^{4} + 24 \\left(-1 + \\sqrt{2}\\right)^{3} + 30\\right)} - \\frac{\\log{\\left(-1 - \\left(-1 + \\sqrt{2}\\right)^{2} + 2 \\sqrt{2} \\right)} + i \\pi}{8 \\left(- 36 \\sqrt{2} - 54 \\left(-1 + \\sqrt{2}\\right)^{2} - 36 \\left(-1 + \\sqrt{2}\\right)^{5} + 6 \\left(-1 + \\sqrt{2}\\right)^{6} + 54 \\left(-1 + \\sqrt{2}\\right)^{4} + 24 \\left(-1 + \\sqrt{2}\\right)^{3} + 30\\right)} - \\frac{9 \\left(-1 + \\sqrt{2}\\right)^{2} \\left(\\log{\\left(-1 - \\left(-1 + \\sqrt{2}\\right)^{2} + 2 \\sqrt{2} \\right)} + i \\pi\\right)}{8 \\left(- 36 \\sqrt{2} - 54 \\left(-1 + \\sqrt{2}\\right)^{2} - 36 \\left(-1 + \\sqrt{2}\\right)^{5} + 6 \\left(-1 + \\sqrt{2}\\right)^{6} + 54 \\left(-1 + \\sqrt{2}\\right)^{4} + 24 \\left(-1 + \\sqrt{2}\\right)^{3} + 30\\right)} - \\frac{3 \\left(-1 + \\sqrt{2}\\right) \\left(\\log{\\left(-1 - \\left(-1 + \\sqrt{2}\\right)^{2} + 2 \\sqrt{2} \\right)} + i \\pi\\right)}{4 \\left(- 36 \\sqrt{2} - 54 \\left(-1 + \\sqrt{2}\\right)^{2} - 36 \\left(-1 + \\sqrt{2}\\right)^{5} + 6 \\left(-1 + \\sqrt{2}\\right)^{6} + 54 \\left(-1 + \\sqrt{2}\\right)^{4} + 24 \\left(-1 + \\sqrt{2}\\right)^{3} + 30\\right)}$"
      ],
      "text/plain": [
       "pi/(16*(-36*sqrt(2) - 54*(-1 + sqrt(2))**2 - 36*(-1 + sqrt(2))**5 + 6*(-1 + sqrt(2))**6 + 54*(-1 + sqrt(2))**4 + 24*(-1 + sqrt(2))**3 + 30)) + 3*(-1 + sqrt(2))*log((-1 + sqrt(2))**2 + 1)/(4*(-36*sqrt(2) - 54*(-1 + sqrt(2))**2 - 36*(-1 + sqrt(2))**5 + 6*(-1 + sqrt(2))**6 + 54*(-1 + sqrt(2))**4 + 24*(-1 + sqrt(2))**3 + 30)) + (-1 + sqrt(2))**3/(2*(-36*sqrt(2) - 54*(-1 + sqrt(2))**2 - 36*(-1 + sqrt(2))**5 + 6*(-1 + sqrt(2))**6 + 54*(-1 + sqrt(2))**4 + 24*(-1 + sqrt(2))**3 + 30)) + 9*(-1 + sqrt(2))**2*log((-1 + sqrt(2))**2 + 1)/(8*(-36*sqrt(2) - 54*(-1 + sqrt(2))**2 - 36*(-1 + sqrt(2))**5 + 6*(-1 + sqrt(2))**6 + 54*(-1 + sqrt(2))**4 + 24*(-1 + sqrt(2))**3 + 30)) + log((-1 + sqrt(2))**2 + 1)/(8*(-36*sqrt(2) - 54*(-1 + sqrt(2))**2 - 36*(-1 + sqrt(2))**5 + 6*(-1 + sqrt(2))**6 + 54*(-1 + sqrt(2))**4 + 24*(-1 + sqrt(2))**3 + 30)) + 3*pi*(-1 + sqrt(2))**4/(16*(-36*sqrt(2) - 54*(-1 + sqrt(2))**2 - 36*(-1 + sqrt(2))**5 + 6*(-1 + sqrt(2))**6 + 54*(-1 + sqrt(2))**4 + 24*(-1 + sqrt(2))**3 + 30)) + (-1 + sqrt(2))**4/(2*(-36*sqrt(2) - 54*(-1 + sqrt(2))**2 - 36*(-1 + sqrt(2))**5 + 6*(-1 + sqrt(2))**6 + 54*(-1 + sqrt(2))**4 + 24*(-1 + sqrt(2))**3 + 30)) + 3*(-1 + sqrt(2))**5*log((-1 + sqrt(2))**2 + 1)/(4*(-36*sqrt(2) - 54*(-1 + sqrt(2))**2 - 36*(-1 + sqrt(2))**5 + 6*(-1 + sqrt(2))**6 + 54*(-1 + sqrt(2))**4 + 24*(-1 + sqrt(2))**3 + 30)) - (-1 + sqrt(2))**6*log((-1 + sqrt(2))**2 + 1)/(8*(-36*sqrt(2) - 54*(-1 + sqrt(2))**2 - 36*(-1 + sqrt(2))**5 + 6*(-1 + sqrt(2))**6 + 54*(-1 + sqrt(2))**4 + 24*(-1 + sqrt(2))**3 + 30)) - pi*(-1 + sqrt(2))**6/(16*(-36*sqrt(2) - 54*(-1 + sqrt(2))**2 - 36*(-1 + sqrt(2))**5 + 6*(-1 + sqrt(2))**6 + 54*(-1 + sqrt(2))**4 + 24*(-1 + sqrt(2))**3 + 30)) - (-1 + sqrt(2))**5/(4*(-36*sqrt(2) - 54*(-1 + sqrt(2))**2 - 36*(-1 + sqrt(2))**5 + 6*(-1 + sqrt(2))**6 + 54*(-1 + sqrt(2))**4 + 24*(-1 + sqrt(2))**3 + 30)) - 9*(-1 + sqrt(2))**4*log((-1 + sqrt(2))**2 + 1)/(8*(-36*sqrt(2) - 54*(-1 + sqrt(2))**2 - 36*(-1 + sqrt(2))**5 + 6*(-1 + sqrt(2))**6 + 54*(-1 + sqrt(2))**4 + 24*(-1 + sqrt(2))**3 + 30)) - (-1 + sqrt(2))**3*log((-1 + sqrt(2))**2 + 1)/(2*(-36*sqrt(2) - 54*(-1 + sqrt(2))**2 - 36*(-1 + sqrt(2))**5 + 6*(-1 + sqrt(2))**6 + 54*(-1 + sqrt(2))**4 + 24*(-1 + sqrt(2))**3 + 30)) - (-1 + sqrt(2))**2/(2*(-36*sqrt(2) - 54*(-1 + sqrt(2))**2 - 36*(-1 + sqrt(2))**5 + 6*(-1 + sqrt(2))**6 + 54*(-1 + sqrt(2))**4 + 24*(-1 + sqrt(2))**3 + 30)) - 3*pi*(-1 + sqrt(2))**2/(16*(-36*sqrt(2) - 54*(-1 + sqrt(2))**2 - 36*(-1 + sqrt(2))**5 + 6*(-1 + sqrt(2))**6 + 54*(-1 + sqrt(2))**4 + 24*(-1 + sqrt(2))**3 + 30)) - (-1 + sqrt(2))/(4*(-36*sqrt(2) - 54*(-1 + sqrt(2))**2 - 36*(-1 + sqrt(2))**5 + 6*(-1 + sqrt(2))**6 + 54*(-1 + sqrt(2))**4 + 24*(-1 + sqrt(2))**3 + 30)) - pi*(-1 + sqrt(2))**3/(2*(-36*sqrt(2) - 54*(-1 + sqrt(2))**2 - 36*(-1 + sqrt(2))**5 + 6*(-1 + sqrt(2))**6 + 54*(-1 + sqrt(2))**4 + 24*(-1 + sqrt(2))**3 + 30)) - I*pi/48 + (-1 + sqrt(2))**3*(log(-1 - (-1 + sqrt(2))**2 + 2*sqrt(2)) + I*pi)/(2*(-36*sqrt(2) - 54*(-1 + sqrt(2))**2 - 36*(-1 + sqrt(2))**5 + 6*(-1 + sqrt(2))**6 + 54*(-1 + sqrt(2))**4 + 24*(-1 + sqrt(2))**3 + 30)) + 9*(-1 + sqrt(2))**4*(log(-1 - (-1 + sqrt(2))**2 + 2*sqrt(2)) + I*pi)/(8*(-36*sqrt(2) - 54*(-1 + sqrt(2))**2 - 36*(-1 + sqrt(2))**5 + 6*(-1 + sqrt(2))**6 + 54*(-1 + sqrt(2))**4 + 24*(-1 + sqrt(2))**3 + 30)) + (-1 + sqrt(2))**6*(log(-1 - (-1 + sqrt(2))**2 + 2*sqrt(2)) + I*pi)/(8*(-36*sqrt(2) - 54*(-1 + sqrt(2))**2 - 36*(-1 + sqrt(2))**5 + 6*(-1 + sqrt(2))**6 + 54*(-1 + sqrt(2))**4 + 24*(-1 + sqrt(2))**3 + 30)) - 3*(-1 + sqrt(2))**5*(log(-1 - (-1 + sqrt(2))**2 + 2*sqrt(2)) + I*pi)/(4*(-36*sqrt(2) - 54*(-1 + sqrt(2))**2 - 36*(-1 + sqrt(2))**5 + 6*(-1 + sqrt(2))**6 + 54*(-1 + sqrt(2))**4 + 24*(-1 + sqrt(2))**3 + 30)) - (log(-1 - (-1 + sqrt(2))**2 + 2*sqrt(2)) + I*pi)/(8*(-36*sqrt(2) - 54*(-1 + sqrt(2))**2 - 36*(-1 + sqrt(2))**5 + 6*(-1 + sqrt(2))**6 + 54*(-1 + sqrt(2))**4 + 24*(-1 + sqrt(2))**3 + 30)) - 9*(-1 + sqrt(2))**2*(log(-1 - (-1 + sqrt(2))**2 + 2*sqrt(2)) + I*pi)/(8*(-36*sqrt(2) - 54*(-1 + sqrt(2))**2 - 36*(-1 + sqrt(2))**5 + 6*(-1 + sqrt(2))**6 + 54*(-1 + sqrt(2))**4 + 24*(-1 + sqrt(2))**3 + 30)) - 3*(-1 + sqrt(2))*(log(-1 - (-1 + sqrt(2))**2 + 2*sqrt(2)) + I*pi)/(4*(-36*sqrt(2) - 54*(-1 + sqrt(2))**2 - 36*(-1 + sqrt(2))**5 + 6*(-1 + sqrt(2))**6 + 54*(-1 + sqrt(2))**4 + 24*(-1 + sqrt(2))**3 + 30))"
      ]
     },
     "execution_count": 7,
     "metadata": {},
     "output_type": "execute_result"
    }
   ],
   "source": [
    "area_sector = theta/(2*pi) * pi * r**2 \n",
    "integrate(integrate(r * area_sector, (r, 0, 1/(cos(theta) + sin(theta)))), (theta, 0, pi/4))"
   ]
  },
  {
   "cell_type": "markdown",
   "metadata": {},
   "source": [
    "Again, SymPy struggles. Wolfram Alpha yields a more reasonable $\\frac{1}{192}(1 + \\log(4))$.\n",
    "\n",
    "<div class=\"alert alert-block alert-info\"> \n",
    "<b>Note:</b> I'm neither sure why SymPy produces these results, nor why SymPy's solution is complex. This is something I want to investigate...\n",
    "</div>"
   ]
  },
  {
   "cell_type": "code",
   "execution_count": 8,
   "metadata": {},
   "outputs": [
    {
     "name": "stdout",
     "output_type": "stream",
     "text": [
      "Sympy result: 0.0124286164641661 + 0.e-22*I\n",
      "Wolfram Alpha result: 0.0124286164641661\n"
     ]
    }
   ],
   "source": [
    "# Consistency check:\n",
    "from sympy import log\n",
    "\n",
    "print(f\"Sympy result: {integrate(integrate(r * area_sector, (r, 0, 1/(cos(theta) + sin(theta)))), (theta, 0, pi/4)).evalf()}\")\n",
    "print(f\"Wolfram Alpha result: {Rational(1/192) * (1 + log(4)).evalf()}\")"
   ]
  },
  {
   "cell_type": "markdown",
   "metadata": {},
   "source": [
    "Finally, piecing the entire integral together:\n",
    "\n",
    "$$\n",
    "\\begin{align*}\n",
    "\\mathbb{P}[Z] &= 4 \\iint_{\\displaystyle \\bigtriangleup } \\mathbb{P}[Z \\mid X_b = x_b, Y_b = y_b]  dx_b dy_b \\\\\n",
    "&= 4 \\iint_{\\displaystyle \\bigtriangleup } 2 A_\\text{left circle}(x_b, y_b) - 4 \\left(A_\\text{left sector}(x_b, y_b) - A_\\text{left triangle}(x_b, y_b)\\right) dx_b  dy_b \\\\\n",
    "&= 4 \\left( 2 \\cdot \\frac{\\pi}{48} - 4 \\cdot \\left( \\frac{1}{192}(1 + \\log(4))  - \\frac{\\pi}{48} \\right) \\right) \\\\\n",
    "&= \\frac{2 + 2\\pi - \\log(2)}{12}\n",
    "\\end{align*}\n",
    "$$"
   ]
  },
  {
   "cell_type": "markdown",
   "metadata": {},
   "source": [
    "## Alternative Approaches\n",
    "\n",
    "I see a number of alternative routes to solve this problem.\n",
    "\n",
    "\n",
    "1. In the beginning, we already derived an exact equation for $X_p$. In theory, this could be used to determine $\\mathbb{P}[Z] = \\mathbb{P}[0 \\leq X_p \\leq 1]$ directly. However, this would involve finding and integrating the probability density function of $X_p =\\frac{X_b^2 - X_r ^2 + Y_b^2 - Y_r^2}{2(X_b^2 - X_r^2)}$. This looks incredibly painful, but perhaps it's possible.\n",
    "\n",
    "2. Much easier would be integrate $\\mathbb{P}[0 \\leq X_p \\leq 1]$ numerically using a Monte-Carlo. I tried this initially, but couldn't get the result to converge.\n",
    "\n",
    "<div class=\"alert alert-block alert-info\"> \n",
    "<b>Note:</b> While trying this I noticed that I know very little about Monte-Carlo simulations, like speed of convergence, bounding errors, etc. This is something I plan to read up on.\n",
    "</div>\n",
    "\n",
    "3. In a similar manner, $A(x_b, y_b)$ could be integrated numerically.\n"
   ]
  }
 ],
 "metadata": {
  "kernelspec": {
   "display_name": "Python (Jane Street Puzzles)",
   "language": "python",
   "name": "janestreet-puzzles-py3"
  },
  "language_info": {
   "codemirror_mode": {
    "name": "ipython",
    "version": 3
   },
   "file_extension": ".py",
   "mimetype": "text/x-python",
   "name": "python",
   "nbconvert_exporter": "python",
   "pygments_lexer": "ipython3",
   "version": "3.13.0"
  }
 },
 "nbformat": 4,
 "nbformat_minor": 4
}
